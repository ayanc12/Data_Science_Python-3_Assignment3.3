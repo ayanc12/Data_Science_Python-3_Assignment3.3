{
 "cells": [
  {
   "cell_type": "code",
   "execution_count": 2,
   "metadata": {},
   "outputs": [
    {
     "name": "stdout",
     "output_type": "stream",
     "text": [
      " Please enter a sentence: THIS IS A LONG SENTENCE\n",
      " The longest word in the entered sentence is: SENTENCE\n"
     ]
    }
   ],
   "source": [
    "# Defination of a function which intakes a sentence and returns the longest word\n",
    "def longword(long):\n",
    "    list_line = long.split()\n",
    "    high_val = 0\n",
    "    \n",
    "    for i in list_line:\n",
    "        l = len(i)\n",
    "        if high_val < l:\n",
    "            high_val = l\n",
    "            long_word = i\n",
    "\n",
    "    return (long_word)    \n",
    "\n",
    "\n",
    "\n",
    "# Requesting the user to enter a sentence\n",
    "long_line = input (\" Please enter a sentence: \")\n",
    "\n",
    "# Callig the longword() function \n",
    "out = longword(long_line)\n",
    "\n",
    "# Printing the longest word of the sentence entered by the user\n",
    "print (\" The longest word in the entered sentence is: {}\".format(out))\n",
    "\n",
    "    \n"
   ]
  },
  {
   "cell_type": "code",
   "execution_count": null,
   "metadata": {},
   "outputs": [],
   "source": []
  }
 ],
 "metadata": {
  "kernelspec": {
   "display_name": "Python 3",
   "language": "python",
   "name": "python3"
  },
  "language_info": {
   "codemirror_mode": {
    "name": "ipython",
    "version": 3
   },
   "file_extension": ".py",
   "mimetype": "text/x-python",
   "name": "python",
   "nbconvert_exporter": "python",
   "pygments_lexer": "ipython3",
   "version": "3.6.4"
  }
 },
 "nbformat": 4,
 "nbformat_minor": 2
}
